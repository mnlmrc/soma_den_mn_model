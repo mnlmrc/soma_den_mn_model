{
 "cells": [
  {
   "cell_type": "code",
   "execution_count": 1,
   "metadata": {
    "collapsed": true
   },
   "outputs": [
    {
     "ename": "ValueError",
     "evalue": "mutable default <class 'brian2.units.fundamentalunits.Quantity'> for field refractory_period is not allowed: use default_factory",
     "output_type": "error",
     "traceback": [
      "\u001B[0;31m---------------------------------------------------------------------------\u001B[0m",
      "\u001B[0;31mValueError\u001B[0m                                Traceback (most recent call last)",
      "Cell \u001B[0;32mIn[1], line 1\u001B[0m\n\u001B[0;32m----> 1\u001B[0m \u001B[38;5;28;01mfrom\u001B[39;00m \u001B[38;5;21;01msoma_den_mn_model\u001B[39;00m\u001B[38;5;21;01m.\u001B[39;00m\u001B[38;5;21;01mpool\u001B[39;00m \u001B[38;5;28;01mimport\u001B[39;00m MNPool\n\u001B[1;32m      2\u001B[0m \u001B[38;5;28;01mfrom\u001B[39;00m \u001B[38;5;21;01msoma_den_mn_model\u001B[39;00m\u001B[38;5;21;01m.\u001B[39;00m\u001B[38;5;21;01mconfigs\u001B[39;00m \u001B[38;5;28;01mimport\u001B[39;00m S_MN_Config, FR_MN_Config, FF_MN_Config\n\u001B[1;32m      3\u001B[0m \u001B[38;5;28;01mfrom\u001B[39;00m \u001B[38;5;21;01msoma_den_mn_model\u001B[39;00m\u001B[38;5;21;01m.\u001B[39;00m\u001B[38;5;21;01minputs\u001B[39;00m \u001B[38;5;28;01mimport\u001B[39;00m SynInputs\n",
      "File \u001B[0;32m~/Documents/GitHub/soma_den_mn_model/soma_den_mn_model/pool.py:1\u001B[0m\n\u001B[0;32m----> 1\u001B[0m \u001B[38;5;28;01mfrom\u001B[39;00m \u001B[38;5;21;01msoma_den_mn_model\u001B[39;00m\u001B[38;5;21;01m.\u001B[39;00m\u001B[38;5;21;01mconfigs\u001B[39;00m \u001B[38;5;28;01mimport\u001B[39;00m Config\n\u001B[1;32m      2\u001B[0m \u001B[38;5;28;01mfrom\u001B[39;00m \u001B[38;5;21;01mtyping\u001B[39;00m \u001B[38;5;28;01mimport\u001B[39;00m Optional, List, Dict\n\u001B[1;32m      3\u001B[0m \u001B[38;5;28;01mfrom\u001B[39;00m \u001B[38;5;21;01mscipy\u001B[39;00m \u001B[38;5;28;01mimport\u001B[39;00m signal\n",
      "File \u001B[0;32m~/Documents/GitHub/soma_den_mn_model/soma_den_mn_model/configs.py:9\u001B[0m\n\u001B[1;32m      6\u001B[0m \u001B[38;5;28;01mfrom\u001B[39;00m \u001B[38;5;21;01mbrian2\u001B[39;00m \u001B[38;5;28;01mimport\u001B[39;00m \u001B[38;5;241m*\u001B[39m\n\u001B[1;32m      7\u001B[0m \u001B[38;5;28;01mfrom\u001B[39;00m \u001B[38;5;21;01mbrian2\u001B[39;00m\u001B[38;5;21;01m.\u001B[39;00m\u001B[38;5;21;01munits\u001B[39;00m\u001B[38;5;21;01m.\u001B[39;00m\u001B[38;5;21;01mallunits\u001B[39;00m \u001B[38;5;28;01mimport\u001B[39;00m newton\n\u001B[0;32m----> 9\u001B[0m \u001B[38;5;129m@dataclass\u001B[39m\n\u001B[1;32m     10\u001B[0m \u001B[38;5;28;01mclass\u001B[39;00m \u001B[38;5;21;01mConfig\u001B[39;00m:\n\u001B[1;32m     11\u001B[0m \n\u001B[1;32m     12\u001B[0m     \u001B[38;5;66;03m# Common properties across all motor neuron types\u001B[39;00m\n\u001B[1;32m     13\u001B[0m     refractory_period: \u001B[38;5;28mfloat\u001B[39m \u001B[38;5;241m=\u001B[39m \u001B[38;5;241m5\u001B[39m \u001B[38;5;241m*\u001B[39m ms \u001B[38;5;66;03m# Refractory period\u001B[39;00m\n\u001B[1;32m     15\u001B[0m     C_mem: \u001B[38;5;28mfloat\u001B[39m \u001B[38;5;241m=\u001B[39m \u001B[38;5;241m1\u001B[39m \u001B[38;5;241m*\u001B[39m uF \u001B[38;5;241m/\u001B[39m cm \u001B[38;5;241m*\u001B[39m\u001B[38;5;241m*\u001B[39m \u001B[38;5;241m2\u001B[39m \u001B[38;5;66;03m# Membrane capacitance\u001B[39;00m\n",
      "File \u001B[0;32m/opt/homebrew/Cellar/python@3.11/3.11.9/Frameworks/Python.framework/Versions/3.11/lib/python3.11/dataclasses.py:1232\u001B[0m, in \u001B[0;36mdataclass\u001B[0;34m(cls, init, repr, eq, order, unsafe_hash, frozen, match_args, kw_only, slots, weakref_slot)\u001B[0m\n\u001B[1;32m   1229\u001B[0m     \u001B[38;5;28;01mreturn\u001B[39;00m wrap\n\u001B[1;32m   1231\u001B[0m \u001B[38;5;66;03m# We're called as @dataclass without parens.\u001B[39;00m\n\u001B[0;32m-> 1232\u001B[0m \u001B[38;5;28;01mreturn\u001B[39;00m wrap(\u001B[38;5;28mcls\u001B[39m)\n",
      "File \u001B[0;32m/opt/homebrew/Cellar/python@3.11/3.11.9/Frameworks/Python.framework/Versions/3.11/lib/python3.11/dataclasses.py:1222\u001B[0m, in \u001B[0;36mdataclass.<locals>.wrap\u001B[0;34m(cls)\u001B[0m\n\u001B[1;32m   1221\u001B[0m \u001B[38;5;28;01mdef\u001B[39;00m \u001B[38;5;21mwrap\u001B[39m(\u001B[38;5;28mcls\u001B[39m):\n\u001B[0;32m-> 1222\u001B[0m     \u001B[38;5;28;01mreturn\u001B[39;00m _process_class(\u001B[38;5;28mcls\u001B[39m, init, \u001B[38;5;28mrepr\u001B[39m, eq, order, unsafe_hash,\n\u001B[1;32m   1223\u001B[0m                           frozen, match_args, kw_only, slots,\n\u001B[1;32m   1224\u001B[0m                           weakref_slot)\n",
      "File \u001B[0;32m/opt/homebrew/Cellar/python@3.11/3.11.9/Frameworks/Python.framework/Versions/3.11/lib/python3.11/dataclasses.py:958\u001B[0m, in \u001B[0;36m_process_class\u001B[0;34m(cls, init, repr, eq, order, unsafe_hash, frozen, match_args, kw_only, slots, weakref_slot)\u001B[0m\n\u001B[1;32m    955\u001B[0m         kw_only \u001B[38;5;241m=\u001B[39m \u001B[38;5;28;01mTrue\u001B[39;00m\n\u001B[1;32m    956\u001B[0m     \u001B[38;5;28;01melse\u001B[39;00m:\n\u001B[1;32m    957\u001B[0m         \u001B[38;5;66;03m# Otherwise it's a field of some type.\u001B[39;00m\n\u001B[0;32m--> 958\u001B[0m         cls_fields\u001B[38;5;241m.\u001B[39mappend(_get_field(\u001B[38;5;28mcls\u001B[39m, name, \u001B[38;5;28mtype\u001B[39m, kw_only))\n\u001B[1;32m    960\u001B[0m \u001B[38;5;28;01mfor\u001B[39;00m f \u001B[38;5;129;01min\u001B[39;00m cls_fields:\n\u001B[1;32m    961\u001B[0m     fields[f\u001B[38;5;241m.\u001B[39mname] \u001B[38;5;241m=\u001B[39m f\n",
      "File \u001B[0;32m/opt/homebrew/Cellar/python@3.11/3.11.9/Frameworks/Python.framework/Versions/3.11/lib/python3.11/dataclasses.py:815\u001B[0m, in \u001B[0;36m_get_field\u001B[0;34m(cls, a_name, a_type, default_kw_only)\u001B[0m\n\u001B[1;32m    811\u001B[0m \u001B[38;5;66;03m# For real fields, disallow mutable defaults.  Use unhashable as a proxy\u001B[39;00m\n\u001B[1;32m    812\u001B[0m \u001B[38;5;66;03m# indicator for mutability.  Read the __hash__ attribute from the class,\u001B[39;00m\n\u001B[1;32m    813\u001B[0m \u001B[38;5;66;03m# not the instance.\u001B[39;00m\n\u001B[1;32m    814\u001B[0m \u001B[38;5;28;01mif\u001B[39;00m f\u001B[38;5;241m.\u001B[39m_field_type \u001B[38;5;129;01mis\u001B[39;00m _FIELD \u001B[38;5;129;01mand\u001B[39;00m f\u001B[38;5;241m.\u001B[39mdefault\u001B[38;5;241m.\u001B[39m\u001B[38;5;18m__class__\u001B[39m\u001B[38;5;241m.\u001B[39m\u001B[38;5;21m__hash__\u001B[39m \u001B[38;5;129;01mis\u001B[39;00m \u001B[38;5;28;01mNone\u001B[39;00m:\n\u001B[0;32m--> 815\u001B[0m     \u001B[38;5;28;01mraise\u001B[39;00m \u001B[38;5;167;01mValueError\u001B[39;00m(\u001B[38;5;124mf\u001B[39m\u001B[38;5;124m'\u001B[39m\u001B[38;5;124mmutable default \u001B[39m\u001B[38;5;132;01m{\u001B[39;00m\u001B[38;5;28mtype\u001B[39m(f\u001B[38;5;241m.\u001B[39mdefault)\u001B[38;5;132;01m}\u001B[39;00m\u001B[38;5;124m for field \u001B[39m\u001B[38;5;124m'\u001B[39m\n\u001B[1;32m    816\u001B[0m                      \u001B[38;5;124mf\u001B[39m\u001B[38;5;124m'\u001B[39m\u001B[38;5;132;01m{\u001B[39;00mf\u001B[38;5;241m.\u001B[39mname\u001B[38;5;132;01m}\u001B[39;00m\u001B[38;5;124m is not allowed: use default_factory\u001B[39m\u001B[38;5;124m'\u001B[39m)\n\u001B[1;32m    818\u001B[0m \u001B[38;5;28;01mreturn\u001B[39;00m f\n",
      "\u001B[0;31mValueError\u001B[0m: mutable default <class 'brian2.units.fundamentalunits.Quantity'> for field refractory_period is not allowed: use default_factory"
     ]
    }
   ],
   "source": [
    "from soma_den_mn_model.pool import MNPool\n",
    "from soma_den_mn_model.configs import S_MN_Config, FR_MN_Config, FF_MN_Config\n",
    "from soma_den_mn_model.inputs import SynInputs\n",
    "from dataclasses import asdict\n",
    "import brian2.numpy_ as np\n",
    "from brian2 import *\n",
    "\n",
    "import os\n",
    "os.environ['CC'] = 'gcc'\n",
    "os.environ['CXX'] = 'g++'\n",
    "prefs.codegen.target = 'cython'"
   ]
  },
  {
   "cell_type": "code",
   "execution_count": null,
   "outputs": [],
   "source": [
    "# Initialise pool\n",
    "mn_type = 's'\n",
    "nneurons = 100\n",
    "fs = 1e5 * Hz\n",
    "duration  = 10 * second\n",
    "\n",
    "# Get MN config\n",
    "if mn_type == 's':\n",
    "    config = S_MN_Config()\n",
    "elif mn_type == 'fr':\n",
    "    config = FR_MN_Config()\n",
    "elif mn_type == 'ff':\n",
    "    config = FF_MN_Config()\n",
    "\n",
    "# Create pool\n",
    "pool = MNPool(nneurons, fs, **asdict(config))\n",
    "\n",
    "# Create inputs: injected current in the soma\n",
    "I_inj_soma = None\n",
    "I_inj_den = None\n",
    "nninputs = 3\n",
    "mean_in = 0.25\n",
    "std_in = 5\n",
    "inputs = SynInputs(nninputs, nneurons, duration, fs, mean_in, std_in)\n",
    "syn_input = TimedArray(inputs.input_per_neuron.T, dt=1/fs)\n",
    "\n",
    "# Indicate which variables to store\n",
    "vars_to_monitor = ['v_den', 'v_soma', 'I_pic', 'I_syn', 'I_ion', 'I_na', 'I_kf', 'I_ks']\n",
    "\n",
    "# Run simulation\n",
    "pool.run_sim(duration, syn_input, I_inj_soma, I_inj_den, vars_to_monitor)"
   ],
   "metadata": {
    "collapsed": false
   }
  },
  {
   "cell_type": "code",
   "execution_count": null,
   "outputs": [],
   "source": [],
   "metadata": {
    "collapsed": false
   }
  }
 ],
 "metadata": {
  "kernelspec": {
   "display_name": "Python 3",
   "language": "python",
   "name": "python3"
  },
  "language_info": {
   "codemirror_mode": {
    "name": "ipython",
    "version": 2
   },
   "file_extension": ".py",
   "mimetype": "text/x-python",
   "name": "python",
   "nbconvert_exporter": "python",
   "pygments_lexer": "ipython2",
   "version": "2.7.6"
  }
 },
 "nbformat": 4,
 "nbformat_minor": 0
}
